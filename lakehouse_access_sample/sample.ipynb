{
 "cells": [
  {
   "cell_type": "markdown",
   "id": "d39a6a47",
   "metadata": {},
   "source": [
    "To work with Amazon SageMaker Lakehouse and the Apache Iceberg API in Python, you can leverage the flexibility of querying and managing data across data lakes and warehouses. Below is a concise guide to help you get started:\n",
    "\n",
    "1. Install Required Libraries\n",
    "Ensure you have the necessary Python libraries installed:"
   ]
  },
  {
   "cell_type": "code",
   "execution_count": 77,
   "id": "8ffcb1b1",
   "metadata": {},
   "outputs": [
    {
     "name": "stderr",
     "output_type": "stream",
     "text": [
      "1019569.45s - pydevd: Sending message related to process being replaced timed-out after 5 seconds\n"
     ]
    },
    {
     "name": "stdout",
     "output_type": "stream",
     "text": [
      "Requirement already satisfied: boto3 in /home/li-yunjun/git/lakehouse-sample/.venv/lib/python3.12/site-packages (1.40.12)\n",
      "Requirement already satisfied: pyiceberg in /home/li-yunjun/git/lakehouse-sample/.venv/lib/python3.12/site-packages (0.9.1)\n",
      "Requirement already satisfied: pandas in /home/li-yunjun/git/lakehouse-sample/.venv/lib/python3.12/site-packages (2.3.1)\n",
      "Requirement already satisfied: mypy-boto3-glue in /home/li-yunjun/git/lakehouse-sample/.venv/lib/python3.12/site-packages (1.40.20)\n",
      "Requirement already satisfied: pyarrow in /home/li-yunjun/git/lakehouse-sample/.venv/lib/python3.12/site-packages (20.0.0)\n",
      "Requirement already satisfied: awswrangler in /home/li-yunjun/git/lakehouse-sample/.venv/lib/python3.12/site-packages (3.12.1)\n",
      "Requirement already satisfied: botocore<1.41.0,>=1.40.12 in /home/li-yunjun/git/lakehouse-sample/.venv/lib/python3.12/site-packages (from boto3) (1.40.12)\n",
      "Requirement already satisfied: jmespath<2.0.0,>=0.7.1 in /home/li-yunjun/git/lakehouse-sample/.venv/lib/python3.12/site-packages (from boto3) (1.0.1)\n",
      "Requirement already satisfied: s3transfer<0.14.0,>=0.13.0 in /home/li-yunjun/git/lakehouse-sample/.venv/lib/python3.12/site-packages (from boto3) (0.13.1)\n",
      "Requirement already satisfied: python-dateutil<3.0.0,>=2.1 in /home/li-yunjun/git/lakehouse-sample/.venv/lib/python3.12/site-packages (from botocore<1.41.0,>=1.40.12->boto3) (2.9.0.post0)\n",
      "Requirement already satisfied: urllib3!=2.2.0,<3,>=1.25.4 in /home/li-yunjun/git/lakehouse-sample/.venv/lib/python3.12/site-packages (from botocore<1.41.0,>=1.40.12->boto3) (2.5.0)\n",
      "Requirement already satisfied: six>=1.5 in /home/li-yunjun/git/lakehouse-sample/.venv/lib/python3.12/site-packages (from python-dateutil<3.0.0,>=2.1->botocore<1.41.0,>=1.40.12->boto3) (1.17.0)\n",
      "Requirement already satisfied: cachetools<6.0.0,>=5.5.0 in /home/li-yunjun/git/lakehouse-sample/.venv/lib/python3.12/site-packages (from pyiceberg) (5.5.2)\n",
      "Requirement already satisfied: click<9.0.0,>=7.1.1 in /home/li-yunjun/git/lakehouse-sample/.venv/lib/python3.12/site-packages (from pyiceberg) (8.2.1)\n",
      "Requirement already satisfied: fsspec>=2023.1.0 in /home/li-yunjun/git/lakehouse-sample/.venv/lib/python3.12/site-packages (from pyiceberg) (2025.7.0)\n",
      "Requirement already satisfied: mmh3<6.0.0,>=4.0.0 in /home/li-yunjun/git/lakehouse-sample/.venv/lib/python3.12/site-packages (from pyiceberg) (5.2.0)\n",
      "Requirement already satisfied: pydantic!=2.4.0,!=2.4.1,<3.0,>=2.0 in /home/li-yunjun/git/lakehouse-sample/.venv/lib/python3.12/site-packages (from pyiceberg) (2.11.7)\n",
      "Requirement already satisfied: pyparsing<4.0.0,>=3.1.0 in /home/li-yunjun/git/lakehouse-sample/.venv/lib/python3.12/site-packages (from pyiceberg) (3.2.3)\n",
      "Requirement already satisfied: requests<3.0.0,>=2.20.0 in /home/li-yunjun/git/lakehouse-sample/.venv/lib/python3.12/site-packages (from pyiceberg) (2.32.5)\n",
      "Requirement already satisfied: rich<14.0.0,>=10.11.0 in /home/li-yunjun/git/lakehouse-sample/.venv/lib/python3.12/site-packages (from pyiceberg) (13.9.4)\n",
      "Requirement already satisfied: sortedcontainers==2.4.0 in /home/li-yunjun/git/lakehouse-sample/.venv/lib/python3.12/site-packages (from pyiceberg) (2.4.0)\n",
      "Requirement already satisfied: strictyaml<2.0.0,>=1.7.0 in /home/li-yunjun/git/lakehouse-sample/.venv/lib/python3.12/site-packages (from pyiceberg) (1.7.3)\n",
      "Requirement already satisfied: tenacity<10.0.0,>=8.2.3 in /home/li-yunjun/git/lakehouse-sample/.venv/lib/python3.12/site-packages (from pyiceberg) (9.1.2)\n",
      "Requirement already satisfied: annotated-types>=0.6.0 in /home/li-yunjun/git/lakehouse-sample/.venv/lib/python3.12/site-packages (from pydantic!=2.4.0,!=2.4.1,<3.0,>=2.0->pyiceberg) (0.7.0)\n",
      "Requirement already satisfied: pydantic-core==2.33.2 in /home/li-yunjun/git/lakehouse-sample/.venv/lib/python3.12/site-packages (from pydantic!=2.4.0,!=2.4.1,<3.0,>=2.0->pyiceberg) (2.33.2)\n",
      "Requirement already satisfied: typing-extensions>=4.12.2 in /home/li-yunjun/git/lakehouse-sample/.venv/lib/python3.12/site-packages (from pydantic!=2.4.0,!=2.4.1,<3.0,>=2.0->pyiceberg) (4.14.1)\n",
      "Requirement already satisfied: typing-inspection>=0.4.0 in /home/li-yunjun/git/lakehouse-sample/.venv/lib/python3.12/site-packages (from pydantic!=2.4.0,!=2.4.1,<3.0,>=2.0->pyiceberg) (0.4.1)\n",
      "Requirement already satisfied: charset_normalizer<4,>=2 in /home/li-yunjun/git/lakehouse-sample/.venv/lib/python3.12/site-packages (from requests<3.0.0,>=2.20.0->pyiceberg) (3.4.3)\n",
      "Requirement already satisfied: idna<4,>=2.5 in /home/li-yunjun/git/lakehouse-sample/.venv/lib/python3.12/site-packages (from requests<3.0.0,>=2.20.0->pyiceberg) (3.10)\n",
      "Requirement already satisfied: certifi>=2017.4.17 in /home/li-yunjun/git/lakehouse-sample/.venv/lib/python3.12/site-packages (from requests<3.0.0,>=2.20.0->pyiceberg) (2025.8.3)\n",
      "Requirement already satisfied: markdown-it-py>=2.2.0 in /home/li-yunjun/git/lakehouse-sample/.venv/lib/python3.12/site-packages (from rich<14.0.0,>=10.11.0->pyiceberg) (4.0.0)\n",
      "Requirement already satisfied: pygments<3.0.0,>=2.13.0 in /home/li-yunjun/git/lakehouse-sample/.venv/lib/python3.12/site-packages (from rich<14.0.0,>=10.11.0->pyiceberg) (2.19.2)\n",
      "Requirement already satisfied: numpy>=1.26.0 in /home/li-yunjun/git/lakehouse-sample/.venv/lib/python3.12/site-packages (from pandas) (2.3.2)\n",
      "Requirement already satisfied: pytz>=2020.1 in /home/li-yunjun/git/lakehouse-sample/.venv/lib/python3.12/site-packages (from pandas) (2025.2)\n",
      "Requirement already satisfied: tzdata>=2022.7 in /home/li-yunjun/git/lakehouse-sample/.venv/lib/python3.12/site-packages (from pandas) (2025.2)\n",
      "Requirement already satisfied: packaging<26.0,>=21.1 in /home/li-yunjun/git/lakehouse-sample/.venv/lib/python3.12/site-packages (from awswrangler) (25.0)\n",
      "Requirement already satisfied: setuptools in /home/li-yunjun/git/lakehouse-sample/.venv/lib/python3.12/site-packages (from awswrangler) (80.9.0)\n",
      "Requirement already satisfied: mdurl~=0.1 in /home/li-yunjun/git/lakehouse-sample/.venv/lib/python3.12/site-packages (from markdown-it-py>=2.2.0->rich<14.0.0,>=10.11.0->pyiceberg) (0.1.2)\n"
     ]
    }
   ],
   "source": [
    "!pip install boto3 pyiceberg pandas mypy-boto3-glue pyarrow awswrangler"
   ]
  },
  {
   "cell_type": "markdown",
   "id": "7d5f92ec",
   "metadata": {},
   "source": [
    "2. Set Up AWS SDK (boto3)\n",
    "Use boto3 to interact with AWS services like SageMaker and S3:"
   ]
  },
  {
   "cell_type": "code",
   "execution_count": 55,
   "id": "c6eae09a",
   "metadata": {},
   "outputs": [],
   "source": [
    "import boto3\n",
    "\n",
    "REGION = \"ap-northeast-1\"\n",
    "\n",
    "session = boto3.Session(\n",
    "    profile_name=\"default\",\n",
    "    region_name=REGION\n",
    ")\n",
    "\n",
    "# Initialize a SageMaker client\n",
    "sagemaker_client = session.client('sagemaker', region_name=REGION)\n",
    "\n",
    "# Initialize an S3 client for data storage\n",
    "s3_client = session.client('s3', region_name=REGION)"
   ]
  },
  {
   "cell_type": "markdown",
   "id": "5444ac92",
   "metadata": {},
   "source": [
    "3. Query Data Using Apache Iceberg API\n",
    "Apache Iceberg allows querying data directly from your data lake. Here's an example:"
   ]
  },
  {
   "cell_type": "code",
   "execution_count": 45,
   "id": "7cc31d19",
   "metadata": {},
   "outputs": [
    {
     "name": "stdout",
     "output_type": "stream",
     "text": [
      "[('glue_db_bsyeydfwn7q7bt', 'mylakehouse_dev_traffic_data')]\n",
      "                                       id           timestamp  age  gender  \\\n",
      "0    4a95add3-991a-421c-ab57-3edd1bb20542 2025-08-16 10:00:02   15  female   \n",
      "1    012569a0-7841-4ee2-913d-e35d94c225c3 2025-08-16 10:00:03   21  female   \n",
      "2    a712cd8c-c1c7-46f0-8c72-7f9939363618 2025-08-16 10:00:03   23  female   \n",
      "3    e3cb3297-54db-421a-929b-a2321549e2a9 2025-08-16 10:00:04   14  female   \n",
      "4    f2a9127d-2a04-4f88-b37f-897b3fc6791b 2025-08-16 10:00:05   13  female   \n",
      "..                                    ...                 ...  ...     ...   \n",
      "205  5b3f970a-4a30-4674-b482-e37088ef2d6d 2025-08-16 10:00:55   13    male   \n",
      "206  1dcd9f34-e381-41ec-99a7-745980e503e0 2025-08-16 10:00:58   30    male   \n",
      "207  d943bb27-650d-42e1-b43f-3191e0040b4b 2025-08-16 10:00:59   12    male   \n",
      "208  dc75e67a-11b1-4c12-8fb7-62b299640e6e 2025-08-16 10:00:03    9    male   \n",
      "209  26419201-20d1-4e96-9944-c8e62f0ac276 2025-08-16 10:00:15    8    male   \n",
      "\n",
      "     direction  \n",
      "0           -1  \n",
      "1           -1  \n",
      "2           -1  \n",
      "3           -1  \n",
      "4           -1  \n",
      "..         ...  \n",
      "205          1  \n",
      "206          1  \n",
      "207          1  \n",
      "208          1  \n",
      "209          1  \n",
      "\n",
      "[210 rows x 5 columns]\n"
     ]
    }
   ],
   "source": [
    "from pyiceberg.catalog.glue import GlueCatalog  \n",
    "\n",
    "GLUE_REST_API_ENDPOINT = \"https://glue.ap-northeast-1.amazonaws.com/iceberg\"\n",
    "DATABASE = \"glue_db_bsyeydfwn7q7bt\"\n",
    "TABLE = \"mylakehouse_dev_traffic_data\"\n",
    "\n",
    "# Load Iceberg catalog (e.g., AWS Glue or REST-based catalog)\n",
    "catalog = GlueCatalog(region_name=REGION, name=\"任意の名前\")\n",
    "\n",
    "# list table in database\n",
    "print(catalog.list_tables(namespace=DATABASE))\n",
    "\n",
    "# Access a specific table\n",
    "table = catalog.load_table(f\"{DATABASE}.{TABLE}\")\n",
    "\n",
    "\n",
    "# Query data (e.g., filter rows)\n",
    "print(table.scan().to_pandas())"
   ]
  },
  {
   "cell_type": "markdown",
   "id": "09e12b96",
   "metadata": {},
   "source": [
    "4.1 Query Data in Iceberg table Using Athena"
   ]
  },
  {
   "cell_type": "code",
   "execution_count": 80,
   "id": "6863790e",
   "metadata": {},
   "outputs": [
    {
     "name": "stdout",
     "output_type": "stream",
     "text": [
      "                                     id           timestamp  age  gender  \\\n",
      "0  09ddc699-14e2-469b-93ea-688f7f44abb7 2025-08-31 17:50:00   12  female   \n",
      "1  f8bc1dfb-3ebc-40aa-8ad1-08ead80639cc 2025-08-31 17:50:00   15    male   \n",
      "2  62b8c25b-2568-472d-91ce-f40e78484196 2025-08-31 17:50:00   19  female   \n",
      "3  aeb03501-bc44-4f18-9f2b-c47b7f95b171 2025-08-31 17:50:00   13  female   \n",
      "4  adb1fccc-b3cd-401c-b099-a7b77943735d 2025-08-31 17:50:01   29    male   \n",
      "5  351c07dc-1ac6-4bcb-b79f-c71bd9b85d77 2025-08-31 17:50:01   17    male   \n",
      "6  429c2a3c-36bc-4f61-8969-27f006b0f307 2025-08-31 17:50:01   14  female   \n",
      "7  c26bee49-377c-4877-a68a-ce5d6ab77009 2025-08-31 17:50:01   18  female   \n",
      "8  c6e76fea-18d4-4ea5-a1bc-57adae6c09b3 2025-08-31 17:50:01   24  female   \n",
      "9  ce4b10fc-24a3-4706-ae52-97c0ca4f16e7 2025-08-31 17:50:02   17    male   \n",
      "\n",
      "   direction  shop_id  \n",
      "0         -1  0123456  \n",
      "1         -1  0123456  \n",
      "2          1  0123456  \n",
      "3         -1  0123456  \n",
      "4         -1  0123456  \n",
      "5          1  0123456  \n",
      "6         -1  0123456  \n",
      "7          1  0123456  \n",
      "8          1  0123456  \n",
      "9         -1  0123456  \n"
     ]
    }
   ],
   "source": [
    "import awswrangler as wr\n",
    "REGION = \"ap-northeast-1\"\n",
    "DATASOUCE_FOR_ICEBERGE = \"AwsDataCatalog\"\n",
    "GLUE_DB_FOR_ICEBERGE = \"glue_db_bsyeydfwn7q7bt\"\n",
    "GLUE_TABLE_FOR_ICEBERGE = \"mylakehouse_dev_traffic_data\"\n",
    "\n",
    "S3_OUTPUT_LOCATION = \"s3://lakehouse-sample-s3-bucket/athena/\"\n",
    "\n",
    "\n",
    "session = boto3.Session(\n",
    "    profile_name=\"default\",\n",
    "    region_name=REGION\n",
    ")\n",
    "\n",
    "sql_query = f\"\"\"\n",
    "SELECT t.* from \"{DATASOUCE_FOR_ICEBERGE}\".\"{GLUE_DB_FOR_ICEBERGE}\".\"{GLUE_TABLE_FOR_ICEBERGE}\" AS t limit 10;\n",
    "\"\"\"\n",
    "\n",
    "df = wr.athena.read_sql_query(sql=sql_query,\n",
    "                              data_source=DATASOUCE_FOR_ICEBERGE,\n",
    "                              database=GLUE_DB_FOR_ICEBERGE,\n",
    "                              s3_output=S3_OUTPUT_LOCATION,\n",
    "                              ctas_approach=False,\n",
    "                              boto3_session=session,\n",
    ")\n",
    "\n",
    "print(df)\n"
   ]
  },
  {
   "cell_type": "markdown",
   "id": "4fae2d13",
   "metadata": {},
   "source": [
    "4.2 Federated Query Data in Aurora MySQL Using Athena"
   ]
  },
  {
   "cell_type": "code",
   "execution_count": 81,
   "id": "aa79b5cd",
   "metadata": {},
   "outputs": [
    {
     "name": "stdout",
     "output_type": "stream",
     "text": [
      "        id name partition_name\n",
      "0  0123456  店舗1              *\n"
     ]
    }
   ],
   "source": [
    "import awswrangler as wr\n",
    "REGION = \"ap-northeast-1\"\n",
    "ATHENA_DATA_SOURCE_NAME = \"lakehouse_sample_mysql_2\"\n",
    "GLUE_DB_FOR_AURORA = \"sample_db\"\n",
    "GLUE_TABLE_FOR_AURORA = \"shop\"\n",
    "\n",
    "S3_OUTPUT_LOCATION = \"s3://lakehouse-sample-s3-bucket/athena/\"\n",
    "\n",
    "\n",
    "session = boto3.Session(\n",
    "    profile_name=\"default\",\n",
    "    region_name=REGION\n",
    ")\n",
    "\n",
    "\n",
    "sql_query = f\"\"\"\n",
    "SELECT s.* from \"{ATHENA_DATA_SOURCE_NAME}\".\"{GLUE_DB_FOR_AURORA}\".\"{GLUE_TABLE_FOR_AURORA}\" AS s;\n",
    "\"\"\"\n",
    "\n",
    "df = wr.athena.read_sql_query(sql=sql_query,\n",
    "                              data_source=ATHENA_DATA_SOURCE_NAME,\n",
    "                              database=GLUE_DB_FOR_AURORA,\n",
    "                              s3_output=S3_OUTPUT_LOCATION,\n",
    "                              ctas_approach=False,\n",
    "                              boto3_session=session,\n",
    ")\n",
    "\n",
    "print(df)\n"
   ]
  },
  {
   "cell_type": "markdown",
   "id": "1f91d3be",
   "metadata": {},
   "source": [
    "4.3 Join two datasource"
   ]
  },
  {
   "cell_type": "code",
   "execution_count": 82,
   "id": "a676bb8a",
   "metadata": {},
   "outputs": [
    {
     "name": "stdout",
     "output_type": "stream",
     "text": [
      "                                       id           timestamp  age  gender  \\\n",
      "0    09ddc699-14e2-469b-93ea-688f7f44abb7 2025-08-31 17:50:00   12  female   \n",
      "1    f8bc1dfb-3ebc-40aa-8ad1-08ead80639cc 2025-08-31 17:50:00   15    male   \n",
      "2    62b8c25b-2568-472d-91ce-f40e78484196 2025-08-31 17:50:00   19  female   \n",
      "3    aeb03501-bc44-4f18-9f2b-c47b7f95b171 2025-08-31 17:50:00   13  female   \n",
      "4    adb1fccc-b3cd-401c-b099-a7b77943735d 2025-08-31 17:50:01   29    male   \n",
      "..                                    ...                 ...  ...     ...   \n",
      "339  e32f046a-2a29-426f-b99a-29890b28fb1f 2025-08-31 17:50:59   18    male   \n",
      "340  2190ce74-342b-4ef5-979b-61ed6c82cb59 2025-08-31 17:50:59   26  female   \n",
      "341  1b676296-995c-4290-804f-51ef431d18e9 2025-08-31 17:50:59   12    male   \n",
      "342  e9d76cc4-bc00-4449-8333-6993dd4ddef4 2025-08-31 17:50:59   26    male   \n",
      "343  63a0146f-c3e9-4c55-8a40-d942c68a5f78 2025-08-31 17:50:59   27    male   \n",
      "\n",
      "     direction  shop_id shop_name  \n",
      "0           -1  0123456       店舗1  \n",
      "1           -1  0123456       店舗1  \n",
      "2            1  0123456       店舗1  \n",
      "3           -1  0123456       店舗1  \n",
      "4           -1  0123456       店舗1  \n",
      "..         ...      ...       ...  \n",
      "339         -1  0123456       店舗1  \n",
      "340          1  0123456       店舗1  \n",
      "341          1  0123456       店舗1  \n",
      "342          1  0123456       店舗1  \n",
      "343          1  0123456       店舗1  \n",
      "\n",
      "[344 rows x 7 columns]\n"
     ]
    }
   ],
   "source": [
    "import awswrangler as wr\n",
    "REGION = \"ap-northeast-1\"\n",
    "\n",
    "DATASOUCE_FOR_ICEBERGE = \"AwsDataCatalog\"\n",
    "GLUE_DB_FOR_ICEBERGE = \"glue_db_bsyeydfwn7q7bt\"\n",
    "GLUE_TABLE_FOR_ICEBERGE = \"mylakehouse_dev_traffic_data\"\n",
    "\n",
    "ATHENA_DATA_SOURCE_NAME = \"lakehouse_sample_mysql_2\"\n",
    "GLUE_DB_FOR_AURORA = \"sample_db\"\n",
    "GLUE_TABLE_FOR_AURORA = \"shop\"\n",
    "\n",
    "S3_OUTPUT_LOCATION = \"s3://lakehouse-sample-s3-bucket/athena/\"\n",
    "\n",
    "\n",
    "session = boto3.Session(\n",
    "    profile_name=\"default\",\n",
    "    region_name=REGION\n",
    ")\n",
    "\n",
    "sql_query = f\"\"\"\n",
    "SELECT t.*, s.name AS shop_name from \"{DATASOUCE_FOR_ICEBERGE}\".\"{GLUE_DB_FOR_ICEBERGE}\".\"{GLUE_TABLE_FOR_ICEBERGE}\" AS t\n",
    "JOIN \"{ATHENA_DATA_SOURCE_NAME}\".\"{GLUE_DB_FOR_AURORA}\".\"{GLUE_TABLE_FOR_AURORA}\" AS s\n",
    "ON t.shop_id = s.id;\n",
    "\"\"\"\n",
    "\n",
    "df = wr.athena.read_sql_query(sql=sql_query,\n",
    "                              data_source=DATASOUCE_FOR_ICEBERGE,\n",
    "                              database=GLUE_DB_FOR_ICEBERGE,\n",
    "                              s3_output=S3_OUTPUT_LOCATION,\n",
    "                              ctas_approach=False,\n",
    "                              boto3_session=session,\n",
    ")\n",
    "\n",
    "print(df)\n"
   ]
  }
 ],
 "metadata": {
  "kernelspec": {
   "display_name": ".venv",
   "language": "python",
   "name": "python3"
  },
  "language_info": {
   "codemirror_mode": {
    "name": "ipython",
    "version": 3
   },
   "file_extension": ".py",
   "mimetype": "text/x-python",
   "name": "python",
   "nbconvert_exporter": "python",
   "pygments_lexer": "ipython3",
   "version": "3.12.8"
  }
 },
 "nbformat": 4,
 "nbformat_minor": 5
}
